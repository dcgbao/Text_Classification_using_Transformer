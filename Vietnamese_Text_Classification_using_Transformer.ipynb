{
  "nbformat": 4,
  "nbformat_minor": 0,
  "metadata": {
    "colab": {
      "provenance": [],
      "authorship_tag": "ABX9TyNAyx8cHfeK37J/RWV43p6l"
    },
    "kernelspec": {
      "name": "python3",
      "display_name": "Python 3"
    },
    "language_info": {
      "name": "python"
    }
  },
  "cells": [
    {
      "cell_type": "markdown",
      "source": [
        "## **0. Install Dependencies**"
      ],
      "metadata": {
        "id": "DSDu4Xo1tonc"
      }
    },
    {
      "cell_type": "code",
      "execution_count": 1,
      "metadata": {
        "colab": {
          "base_uri": "https://localhost:8080/"
        },
        "id": "XXd8JFExQoeR",
        "outputId": "9a61cfaf-e855-4b70-bafa-83c24211adcc"
      },
      "outputs": [
        {
          "output_type": "stream",
          "name": "stdout",
          "text": [
            "Requirement already satisfied: tiktoken in /usr/local/lib/python3.11/dist-packages (0.9.0)\n",
            "Requirement already satisfied: regex>=2022.1.18 in /usr/local/lib/python3.11/dist-packages (from tiktoken) (2024.11.6)\n",
            "Requirement already satisfied: requests>=2.26.0 in /usr/local/lib/python3.11/dist-packages (from tiktoken) (2.32.3)\n",
            "Requirement already satisfied: charset-normalizer<4,>=2 in /usr/local/lib/python3.11/dist-packages (from requests>=2.26.0->tiktoken) (3.4.2)\n",
            "Requirement already satisfied: idna<4,>=2.5 in /usr/local/lib/python3.11/dist-packages (from requests>=2.26.0->tiktoken) (3.10)\n",
            "Requirement already satisfied: urllib3<3,>=1.21.1 in /usr/local/lib/python3.11/dist-packages (from requests>=2.26.0->tiktoken) (2.4.0)\n",
            "Requirement already satisfied: certifi>=2017.4.17 in /usr/local/lib/python3.11/dist-packages (from requests>=2.26.0->tiktoken) (2025.4.26)\n"
          ]
        }
      ],
      "source": [
        "!pip install tiktoken"
      ]
    },
    {
      "cell_type": "markdown",
      "source": [
        "## **1. Import Libraries & Device Configuration**"
      ],
      "metadata": {
        "id": "GEYUIMprrzYA"
      }
    },
    {
      "cell_type": "code",
      "source": [
        "import os\n",
        "import math\n",
        "import tiktoken\n",
        "import pandas as pd\n",
        "from tqdm import tqdm\n",
        "import torch\n",
        "import torch.nn as nn\n",
        "import torch.optim as optim\n",
        "from torch.utils.data import Dataset, DataLoader"
      ],
      "metadata": {
        "id": "A8reC0zmrNrc"
      },
      "execution_count": 2,
      "outputs": []
    },
    {
      "cell_type": "code",
      "source": [
        "# Device Configuration\n",
        "device = torch.device(\"cuda\" if torch.cuda.is_available() else \"cpu\")"
      ],
      "metadata": {
        "id": "WvhJIG_LZrgR"
      },
      "execution_count": 3,
      "outputs": []
    },
    {
      "cell_type": "markdown",
      "source": [
        "## **2. Dataset & Dataloader Preparation**"
      ],
      "metadata": {
        "id": "2PxXheBRrr5a"
      }
    },
    {
      "cell_type": "code",
      "source": [
        "# Download dataset\n",
        "!gdown 1WTjIveEsM7XpN28xm6F1qgX57QxaoFI_\n",
        "!gdown 1WbyeG8f-V7VmpKdQam-0tNg4x6XDWoML"
      ],
      "metadata": {
        "colab": {
          "base_uri": "https://localhost:8080/"
        },
        "id": "0ADR-JAXnZq3",
        "outputId": "a81f4e3e-00b3-4666-d729-7a1cd8df3829"
      },
      "execution_count": 4,
      "outputs": [
        {
          "output_type": "stream",
          "name": "stdout",
          "text": [
            "Downloading...\n",
            "From: https://drive.google.com/uc?id=1WTjIveEsM7XpN28xm6F1qgX57QxaoFI_\n",
            "To: /content/train_set.csv\n",
            "100% 524k/524k [00:00<00:00, 37.4MB/s]\n",
            "Downloading...\n",
            "From: https://drive.google.com/uc?id=1WbyeG8f-V7VmpKdQam-0tNg4x6XDWoML\n",
            "To: /content/validation_set.csv\n",
            "100% 112k/112k [00:00<00:00, 60.9MB/s]\n"
          ]
        }
      ]
    },
    {
      "cell_type": "code",
      "source": [
        "# Read dataset\n",
        "TRAIN_PATH = '/content/train_set.csv'\n",
        "VAL_PATH = '/content/validation_set.csv'\n",
        "train_df = pd.read_csv(TRAIN_PATH)\n",
        "val_df = pd.read_csv(VAL_PATH)"
      ],
      "metadata": {
        "id": "MqnNuybs1Nnp"
      },
      "execution_count": 5,
      "outputs": []
    },
    {
      "cell_type": "code",
      "source": [
        "print(\"Training Set:\")\n",
        "train_df.head()"
      ],
      "metadata": {
        "colab": {
          "base_uri": "https://localhost:8080/",
          "height": 223
        },
        "id": "yRNpWL3y4m9e",
        "outputId": "7ae2f877-7996-4bcb-88e8-f67b65ecbb7f"
      },
      "execution_count": 6,
      "outputs": [
        {
          "output_type": "stream",
          "name": "stdout",
          "text": [
            "Training Set:\n"
          ]
        },
        {
          "output_type": "execute_result",
          "data": {
            "text/plain": [
              "                        _id       label  \\\n",
              "0  66b5aabf8a38820e82e0b6ce    Xu hướng   \n",
              "1  66b5a9838a38820e82e0b64d    Xu hướng   \n",
              "2  66b5cb358a38820e82e0c408    Xu hướng   \n",
              "3  66b5c7548a38820e82e0c271  Dinh dưỡng   \n",
              "4  66b5c7a78a38820e82e0c294         Nhà   \n",
              "\n",
              "                                               title  label_numeric  \n",
              "0  100+ STT Né thính, Cap né thính hài hước, NÉT ...              7  \n",
              "1  Top 111+ stt cuộc sống an nhiên, bình dị tự tạ...              7  \n",
              "2  Top hạt giống hoa dễ trồng, nở quanh năm cho n...              7  \n",
              "3  Chi tiết 3 cách nấu rau bò khai đơn giản mà th...              1  \n",
              "4  Top 10 quạt cây hơi nước được ưa chuộng nhất h...              4  "
            ],
            "text/html": [
              "\n",
              "  <div id=\"df-be94f478-1d32-4225-a4ed-6d4b34b24538\" class=\"colab-df-container\">\n",
              "    <div>\n",
              "<style scoped>\n",
              "    .dataframe tbody tr th:only-of-type {\n",
              "        vertical-align: middle;\n",
              "    }\n",
              "\n",
              "    .dataframe tbody tr th {\n",
              "        vertical-align: top;\n",
              "    }\n",
              "\n",
              "    .dataframe thead th {\n",
              "        text-align: right;\n",
              "    }\n",
              "</style>\n",
              "<table border=\"1\" class=\"dataframe\">\n",
              "  <thead>\n",
              "    <tr style=\"text-align: right;\">\n",
              "      <th></th>\n",
              "      <th>_id</th>\n",
              "      <th>label</th>\n",
              "      <th>title</th>\n",
              "      <th>label_numeric</th>\n",
              "    </tr>\n",
              "  </thead>\n",
              "  <tbody>\n",
              "    <tr>\n",
              "      <th>0</th>\n",
              "      <td>66b5aabf8a38820e82e0b6ce</td>\n",
              "      <td>Xu hướng</td>\n",
              "      <td>100+ STT Né thính, Cap né thính hài hước, NÉT ...</td>\n",
              "      <td>7</td>\n",
              "    </tr>\n",
              "    <tr>\n",
              "      <th>1</th>\n",
              "      <td>66b5a9838a38820e82e0b64d</td>\n",
              "      <td>Xu hướng</td>\n",
              "      <td>Top 111+ stt cuộc sống an nhiên, bình dị tự tạ...</td>\n",
              "      <td>7</td>\n",
              "    </tr>\n",
              "    <tr>\n",
              "      <th>2</th>\n",
              "      <td>66b5cb358a38820e82e0c408</td>\n",
              "      <td>Xu hướng</td>\n",
              "      <td>Top hạt giống hoa dễ trồng, nở quanh năm cho n...</td>\n",
              "      <td>7</td>\n",
              "    </tr>\n",
              "    <tr>\n",
              "      <th>3</th>\n",
              "      <td>66b5c7548a38820e82e0c271</td>\n",
              "      <td>Dinh dưỡng</td>\n",
              "      <td>Chi tiết 3 cách nấu rau bò khai đơn giản mà th...</td>\n",
              "      <td>1</td>\n",
              "    </tr>\n",
              "    <tr>\n",
              "      <th>4</th>\n",
              "      <td>66b5c7a78a38820e82e0c294</td>\n",
              "      <td>Nhà</td>\n",
              "      <td>Top 10 quạt cây hơi nước được ưa chuộng nhất h...</td>\n",
              "      <td>4</td>\n",
              "    </tr>\n",
              "  </tbody>\n",
              "</table>\n",
              "</div>\n",
              "    <div class=\"colab-df-buttons\">\n",
              "\n",
              "  <div class=\"colab-df-container\">\n",
              "    <button class=\"colab-df-convert\" onclick=\"convertToInteractive('df-be94f478-1d32-4225-a4ed-6d4b34b24538')\"\n",
              "            title=\"Convert this dataframe to an interactive table.\"\n",
              "            style=\"display:none;\">\n",
              "\n",
              "  <svg xmlns=\"http://www.w3.org/2000/svg\" height=\"24px\" viewBox=\"0 -960 960 960\">\n",
              "    <path d=\"M120-120v-720h720v720H120Zm60-500h600v-160H180v160Zm220 220h160v-160H400v160Zm0 220h160v-160H400v160ZM180-400h160v-160H180v160Zm440 0h160v-160H620v160ZM180-180h160v-160H180v160Zm440 0h160v-160H620v160Z\"/>\n",
              "  </svg>\n",
              "    </button>\n",
              "\n",
              "  <style>\n",
              "    .colab-df-container {\n",
              "      display:flex;\n",
              "      gap: 12px;\n",
              "    }\n",
              "\n",
              "    .colab-df-convert {\n",
              "      background-color: #E8F0FE;\n",
              "      border: none;\n",
              "      border-radius: 50%;\n",
              "      cursor: pointer;\n",
              "      display: none;\n",
              "      fill: #1967D2;\n",
              "      height: 32px;\n",
              "      padding: 0 0 0 0;\n",
              "      width: 32px;\n",
              "    }\n",
              "\n",
              "    .colab-df-convert:hover {\n",
              "      background-color: #E2EBFA;\n",
              "      box-shadow: 0px 1px 2px rgba(60, 64, 67, 0.3), 0px 1px 3px 1px rgba(60, 64, 67, 0.15);\n",
              "      fill: #174EA6;\n",
              "    }\n",
              "\n",
              "    .colab-df-buttons div {\n",
              "      margin-bottom: 4px;\n",
              "    }\n",
              "\n",
              "    [theme=dark] .colab-df-convert {\n",
              "      background-color: #3B4455;\n",
              "      fill: #D2E3FC;\n",
              "    }\n",
              "\n",
              "    [theme=dark] .colab-df-convert:hover {\n",
              "      background-color: #434B5C;\n",
              "      box-shadow: 0px 1px 3px 1px rgba(0, 0, 0, 0.15);\n",
              "      filter: drop-shadow(0px 1px 2px rgba(0, 0, 0, 0.3));\n",
              "      fill: #FFFFFF;\n",
              "    }\n",
              "  </style>\n",
              "\n",
              "    <script>\n",
              "      const buttonEl =\n",
              "        document.querySelector('#df-be94f478-1d32-4225-a4ed-6d4b34b24538 button.colab-df-convert');\n",
              "      buttonEl.style.display =\n",
              "        google.colab.kernel.accessAllowed ? 'block' : 'none';\n",
              "\n",
              "      async function convertToInteractive(key) {\n",
              "        const element = document.querySelector('#df-be94f478-1d32-4225-a4ed-6d4b34b24538');\n",
              "        const dataTable =\n",
              "          await google.colab.kernel.invokeFunction('convertToInteractive',\n",
              "                                                    [key], {});\n",
              "        if (!dataTable) return;\n",
              "\n",
              "        const docLinkHtml = 'Like what you see? Visit the ' +\n",
              "          '<a target=\"_blank\" href=https://colab.research.google.com/notebooks/data_table.ipynb>data table notebook</a>'\n",
              "          + ' to learn more about interactive tables.';\n",
              "        element.innerHTML = '';\n",
              "        dataTable['output_type'] = 'display_data';\n",
              "        await google.colab.output.renderOutput(dataTable, element);\n",
              "        const docLink = document.createElement('div');\n",
              "        docLink.innerHTML = docLinkHtml;\n",
              "        element.appendChild(docLink);\n",
              "      }\n",
              "    </script>\n",
              "  </div>\n",
              "\n",
              "\n",
              "    <div id=\"df-aae1dc27-90c3-4385-b9b6-2154bd7405d6\">\n",
              "      <button class=\"colab-df-quickchart\" onclick=\"quickchart('df-aae1dc27-90c3-4385-b9b6-2154bd7405d6')\"\n",
              "                title=\"Suggest charts\"\n",
              "                style=\"display:none;\">\n",
              "\n",
              "<svg xmlns=\"http://www.w3.org/2000/svg\" height=\"24px\"viewBox=\"0 0 24 24\"\n",
              "     width=\"24px\">\n",
              "    <g>\n",
              "        <path d=\"M19 3H5c-1.1 0-2 .9-2 2v14c0 1.1.9 2 2 2h14c1.1 0 2-.9 2-2V5c0-1.1-.9-2-2-2zM9 17H7v-7h2v7zm4 0h-2V7h2v10zm4 0h-2v-4h2v4z\"/>\n",
              "    </g>\n",
              "</svg>\n",
              "      </button>\n",
              "\n",
              "<style>\n",
              "  .colab-df-quickchart {\n",
              "      --bg-color: #E8F0FE;\n",
              "      --fill-color: #1967D2;\n",
              "      --hover-bg-color: #E2EBFA;\n",
              "      --hover-fill-color: #174EA6;\n",
              "      --disabled-fill-color: #AAA;\n",
              "      --disabled-bg-color: #DDD;\n",
              "  }\n",
              "\n",
              "  [theme=dark] .colab-df-quickchart {\n",
              "      --bg-color: #3B4455;\n",
              "      --fill-color: #D2E3FC;\n",
              "      --hover-bg-color: #434B5C;\n",
              "      --hover-fill-color: #FFFFFF;\n",
              "      --disabled-bg-color: #3B4455;\n",
              "      --disabled-fill-color: #666;\n",
              "  }\n",
              "\n",
              "  .colab-df-quickchart {\n",
              "    background-color: var(--bg-color);\n",
              "    border: none;\n",
              "    border-radius: 50%;\n",
              "    cursor: pointer;\n",
              "    display: none;\n",
              "    fill: var(--fill-color);\n",
              "    height: 32px;\n",
              "    padding: 0;\n",
              "    width: 32px;\n",
              "  }\n",
              "\n",
              "  .colab-df-quickchart:hover {\n",
              "    background-color: var(--hover-bg-color);\n",
              "    box-shadow: 0 1px 2px rgba(60, 64, 67, 0.3), 0 1px 3px 1px rgba(60, 64, 67, 0.15);\n",
              "    fill: var(--button-hover-fill-color);\n",
              "  }\n",
              "\n",
              "  .colab-df-quickchart-complete:disabled,\n",
              "  .colab-df-quickchart-complete:disabled:hover {\n",
              "    background-color: var(--disabled-bg-color);\n",
              "    fill: var(--disabled-fill-color);\n",
              "    box-shadow: none;\n",
              "  }\n",
              "\n",
              "  .colab-df-spinner {\n",
              "    border: 2px solid var(--fill-color);\n",
              "    border-color: transparent;\n",
              "    border-bottom-color: var(--fill-color);\n",
              "    animation:\n",
              "      spin 1s steps(1) infinite;\n",
              "  }\n",
              "\n",
              "  @keyframes spin {\n",
              "    0% {\n",
              "      border-color: transparent;\n",
              "      border-bottom-color: var(--fill-color);\n",
              "      border-left-color: var(--fill-color);\n",
              "    }\n",
              "    20% {\n",
              "      border-color: transparent;\n",
              "      border-left-color: var(--fill-color);\n",
              "      border-top-color: var(--fill-color);\n",
              "    }\n",
              "    30% {\n",
              "      border-color: transparent;\n",
              "      border-left-color: var(--fill-color);\n",
              "      border-top-color: var(--fill-color);\n",
              "      border-right-color: var(--fill-color);\n",
              "    }\n",
              "    40% {\n",
              "      border-color: transparent;\n",
              "      border-right-color: var(--fill-color);\n",
              "      border-top-color: var(--fill-color);\n",
              "    }\n",
              "    60% {\n",
              "      border-color: transparent;\n",
              "      border-right-color: var(--fill-color);\n",
              "    }\n",
              "    80% {\n",
              "      border-color: transparent;\n",
              "      border-right-color: var(--fill-color);\n",
              "      border-bottom-color: var(--fill-color);\n",
              "    }\n",
              "    90% {\n",
              "      border-color: transparent;\n",
              "      border-bottom-color: var(--fill-color);\n",
              "    }\n",
              "  }\n",
              "</style>\n",
              "\n",
              "      <script>\n",
              "        async function quickchart(key) {\n",
              "          const quickchartButtonEl =\n",
              "            document.querySelector('#' + key + ' button');\n",
              "          quickchartButtonEl.disabled = true;  // To prevent multiple clicks.\n",
              "          quickchartButtonEl.classList.add('colab-df-spinner');\n",
              "          try {\n",
              "            const charts = await google.colab.kernel.invokeFunction(\n",
              "                'suggestCharts', [key], {});\n",
              "          } catch (error) {\n",
              "            console.error('Error during call to suggestCharts:', error);\n",
              "          }\n",
              "          quickchartButtonEl.classList.remove('colab-df-spinner');\n",
              "          quickchartButtonEl.classList.add('colab-df-quickchart-complete');\n",
              "        }\n",
              "        (() => {\n",
              "          let quickchartButtonEl =\n",
              "            document.querySelector('#df-aae1dc27-90c3-4385-b9b6-2154bd7405d6 button');\n",
              "          quickchartButtonEl.style.display =\n",
              "            google.colab.kernel.accessAllowed ? 'block' : 'none';\n",
              "        })();\n",
              "      </script>\n",
              "    </div>\n",
              "\n",
              "    </div>\n",
              "  </div>\n"
            ],
            "application/vnd.google.colaboratory.intrinsic+json": {
              "type": "dataframe",
              "variable_name": "train_df",
              "summary": "{\n  \"name\": \"train_df\",\n  \"rows\": 4543,\n  \"fields\": [\n    {\n      \"column\": \"_id\",\n      \"properties\": {\n        \"dtype\": \"string\",\n        \"num_unique_values\": 4543,\n        \"samples\": [\n          \"66b5d2278a38820e82e0c6e6\",\n          \"66b5bfc18a38820e82e0bf5e\",\n          \"66b5b5858a38820e82e0bb32\"\n        ],\n        \"semantic_type\": \"\",\n        \"description\": \"\"\n      }\n    },\n    {\n      \"column\": \"label\",\n      \"properties\": {\n        \"dtype\": \"category\",\n        \"num_unique_values\": 9,\n        \"samples\": [\n          \"\\u0110\\u00e1nh gi\\u00e1\",\n          \"Dinh d\\u01b0\\u1ee1ng\",\n          \"L\\u00e0m \\u0110\\u1eb9p\"\n        ],\n        \"semantic_type\": \"\",\n        \"description\": \"\"\n      }\n    },\n    {\n      \"column\": \"title\",\n      \"properties\": {\n        \"dtype\": \"string\",\n        \"num_unique_values\": 4543,\n        \"samples\": [\n          \"Review top 3 c\\u1ed1c n\\u1ea5u ch\\u00e1o \\u0103n d\\u1eb7m cho b\\u00e9 t\\u1ed1t nh\\u1ea5t n\\u00ean d\\u00f9ng\",\n          \"Review serum Obagi Hydro Drops c\\u1ea5p n\\u01b0\\u1edbc, ph\\u1ee5c h\\u1ed3i t\\u1ed1t kh\\u00f4ng?\",\n          \"Review kem d\\u01b0\\u1ee1ng Dermacos Anti-Acne Matting Cream c\\u00f3 t\\u1ed1t kh\\u00f4ng?\"\n        ],\n        \"semantic_type\": \"\",\n        \"description\": \"\"\n      }\n    },\n    {\n      \"column\": \"label_numeric\",\n      \"properties\": {\n        \"dtype\": \"number\",\n        \"std\": 2,\n        \"min\": 0,\n        \"max\": 8,\n        \"num_unique_values\": 9,\n        \"samples\": [\n          8,\n          1,\n          3\n        ],\n        \"semantic_type\": \"\",\n        \"description\": \"\"\n      }\n    }\n  ]\n}"
            }
          },
          "metadata": {},
          "execution_count": 6
        }
      ]
    },
    {
      "cell_type": "code",
      "source": [
        "print(\"Validation Set:\")\n",
        "val_df.head()"
      ],
      "metadata": {
        "colab": {
          "base_uri": "https://localhost:8080/",
          "height": 223
        },
        "id": "oAv__Jz35HAI",
        "outputId": "c9a90774-4574-433f-bc6e-2e471ff0c80a"
      },
      "execution_count": 7,
      "outputs": [
        {
          "output_type": "stream",
          "name": "stdout",
          "text": [
            "Validation Set:\n"
          ]
        },
        {
          "output_type": "execute_result",
          "data": {
            "text/plain": [
              "                        _id       label  \\\n",
              "0  66b5a0f18a38820e82e0b2cb   Công Nghệ   \n",
              "1  66b5cdc28a38820e82e0c518     Làm Đẹp   \n",
              "2  66b5a0ad8a38820e82e0b2ae     Làm Đẹp   \n",
              "3  66b5db8b8a38820e82e0caad   Công Nghệ   \n",
              "4  66b5b77b8a38820e82e0bbfb  Khuyến mãi   \n",
              "\n",
              "                                               title  label_numeric  \n",
              "0     Tổng hợp Code Hiền Nhân Thuật mới nhất 08/2024              0  \n",
              "1  Cách chăm sóc da nhờn ở nam giới, top sản phẩm...              3  \n",
              "2  Review Top 4 kem chống nắng Goodal bán chạy nh...              3  \n",
              "3  Review điện thoại Xiaomi Redmi K40 thực tế sau...              0  \n",
              "4  Giao hàng hỏa tốc Lazada là gì? Cách chọn giao...              2  "
            ],
            "text/html": [
              "\n",
              "  <div id=\"df-49b5bd6b-6a28-476e-aa7f-b7b13366ec31\" class=\"colab-df-container\">\n",
              "    <div>\n",
              "<style scoped>\n",
              "    .dataframe tbody tr th:only-of-type {\n",
              "        vertical-align: middle;\n",
              "    }\n",
              "\n",
              "    .dataframe tbody tr th {\n",
              "        vertical-align: top;\n",
              "    }\n",
              "\n",
              "    .dataframe thead th {\n",
              "        text-align: right;\n",
              "    }\n",
              "</style>\n",
              "<table border=\"1\" class=\"dataframe\">\n",
              "  <thead>\n",
              "    <tr style=\"text-align: right;\">\n",
              "      <th></th>\n",
              "      <th>_id</th>\n",
              "      <th>label</th>\n",
              "      <th>title</th>\n",
              "      <th>label_numeric</th>\n",
              "    </tr>\n",
              "  </thead>\n",
              "  <tbody>\n",
              "    <tr>\n",
              "      <th>0</th>\n",
              "      <td>66b5a0f18a38820e82e0b2cb</td>\n",
              "      <td>Công Nghệ</td>\n",
              "      <td>Tổng hợp Code Hiền Nhân Thuật mới nhất 08/2024</td>\n",
              "      <td>0</td>\n",
              "    </tr>\n",
              "    <tr>\n",
              "      <th>1</th>\n",
              "      <td>66b5cdc28a38820e82e0c518</td>\n",
              "      <td>Làm Đẹp</td>\n",
              "      <td>Cách chăm sóc da nhờn ở nam giới, top sản phẩm...</td>\n",
              "      <td>3</td>\n",
              "    </tr>\n",
              "    <tr>\n",
              "      <th>2</th>\n",
              "      <td>66b5a0ad8a38820e82e0b2ae</td>\n",
              "      <td>Làm Đẹp</td>\n",
              "      <td>Review Top 4 kem chống nắng Goodal bán chạy nh...</td>\n",
              "      <td>3</td>\n",
              "    </tr>\n",
              "    <tr>\n",
              "      <th>3</th>\n",
              "      <td>66b5db8b8a38820e82e0caad</td>\n",
              "      <td>Công Nghệ</td>\n",
              "      <td>Review điện thoại Xiaomi Redmi K40 thực tế sau...</td>\n",
              "      <td>0</td>\n",
              "    </tr>\n",
              "    <tr>\n",
              "      <th>4</th>\n",
              "      <td>66b5b77b8a38820e82e0bbfb</td>\n",
              "      <td>Khuyến mãi</td>\n",
              "      <td>Giao hàng hỏa tốc Lazada là gì? Cách chọn giao...</td>\n",
              "      <td>2</td>\n",
              "    </tr>\n",
              "  </tbody>\n",
              "</table>\n",
              "</div>\n",
              "    <div class=\"colab-df-buttons\">\n",
              "\n",
              "  <div class=\"colab-df-container\">\n",
              "    <button class=\"colab-df-convert\" onclick=\"convertToInteractive('df-49b5bd6b-6a28-476e-aa7f-b7b13366ec31')\"\n",
              "            title=\"Convert this dataframe to an interactive table.\"\n",
              "            style=\"display:none;\">\n",
              "\n",
              "  <svg xmlns=\"http://www.w3.org/2000/svg\" height=\"24px\" viewBox=\"0 -960 960 960\">\n",
              "    <path d=\"M120-120v-720h720v720H120Zm60-500h600v-160H180v160Zm220 220h160v-160H400v160Zm0 220h160v-160H400v160ZM180-400h160v-160H180v160Zm440 0h160v-160H620v160ZM180-180h160v-160H180v160Zm440 0h160v-160H620v160Z\"/>\n",
              "  </svg>\n",
              "    </button>\n",
              "\n",
              "  <style>\n",
              "    .colab-df-container {\n",
              "      display:flex;\n",
              "      gap: 12px;\n",
              "    }\n",
              "\n",
              "    .colab-df-convert {\n",
              "      background-color: #E8F0FE;\n",
              "      border: none;\n",
              "      border-radius: 50%;\n",
              "      cursor: pointer;\n",
              "      display: none;\n",
              "      fill: #1967D2;\n",
              "      height: 32px;\n",
              "      padding: 0 0 0 0;\n",
              "      width: 32px;\n",
              "    }\n",
              "\n",
              "    .colab-df-convert:hover {\n",
              "      background-color: #E2EBFA;\n",
              "      box-shadow: 0px 1px 2px rgba(60, 64, 67, 0.3), 0px 1px 3px 1px rgba(60, 64, 67, 0.15);\n",
              "      fill: #174EA6;\n",
              "    }\n",
              "\n",
              "    .colab-df-buttons div {\n",
              "      margin-bottom: 4px;\n",
              "    }\n",
              "\n",
              "    [theme=dark] .colab-df-convert {\n",
              "      background-color: #3B4455;\n",
              "      fill: #D2E3FC;\n",
              "    }\n",
              "\n",
              "    [theme=dark] .colab-df-convert:hover {\n",
              "      background-color: #434B5C;\n",
              "      box-shadow: 0px 1px 3px 1px rgba(0, 0, 0, 0.15);\n",
              "      filter: drop-shadow(0px 1px 2px rgba(0, 0, 0, 0.3));\n",
              "      fill: #FFFFFF;\n",
              "    }\n",
              "  </style>\n",
              "\n",
              "    <script>\n",
              "      const buttonEl =\n",
              "        document.querySelector('#df-49b5bd6b-6a28-476e-aa7f-b7b13366ec31 button.colab-df-convert');\n",
              "      buttonEl.style.display =\n",
              "        google.colab.kernel.accessAllowed ? 'block' : 'none';\n",
              "\n",
              "      async function convertToInteractive(key) {\n",
              "        const element = document.querySelector('#df-49b5bd6b-6a28-476e-aa7f-b7b13366ec31');\n",
              "        const dataTable =\n",
              "          await google.colab.kernel.invokeFunction('convertToInteractive',\n",
              "                                                    [key], {});\n",
              "        if (!dataTable) return;\n",
              "\n",
              "        const docLinkHtml = 'Like what you see? Visit the ' +\n",
              "          '<a target=\"_blank\" href=https://colab.research.google.com/notebooks/data_table.ipynb>data table notebook</a>'\n",
              "          + ' to learn more about interactive tables.';\n",
              "        element.innerHTML = '';\n",
              "        dataTable['output_type'] = 'display_data';\n",
              "        await google.colab.output.renderOutput(dataTable, element);\n",
              "        const docLink = document.createElement('div');\n",
              "        docLink.innerHTML = docLinkHtml;\n",
              "        element.appendChild(docLink);\n",
              "      }\n",
              "    </script>\n",
              "  </div>\n",
              "\n",
              "\n",
              "    <div id=\"df-ff4dc251-d8a9-4c49-b0ae-985e544a2c5b\">\n",
              "      <button class=\"colab-df-quickchart\" onclick=\"quickchart('df-ff4dc251-d8a9-4c49-b0ae-985e544a2c5b')\"\n",
              "                title=\"Suggest charts\"\n",
              "                style=\"display:none;\">\n",
              "\n",
              "<svg xmlns=\"http://www.w3.org/2000/svg\" height=\"24px\"viewBox=\"0 0 24 24\"\n",
              "     width=\"24px\">\n",
              "    <g>\n",
              "        <path d=\"M19 3H5c-1.1 0-2 .9-2 2v14c0 1.1.9 2 2 2h14c1.1 0 2-.9 2-2V5c0-1.1-.9-2-2-2zM9 17H7v-7h2v7zm4 0h-2V7h2v10zm4 0h-2v-4h2v4z\"/>\n",
              "    </g>\n",
              "</svg>\n",
              "      </button>\n",
              "\n",
              "<style>\n",
              "  .colab-df-quickchart {\n",
              "      --bg-color: #E8F0FE;\n",
              "      --fill-color: #1967D2;\n",
              "      --hover-bg-color: #E2EBFA;\n",
              "      --hover-fill-color: #174EA6;\n",
              "      --disabled-fill-color: #AAA;\n",
              "      --disabled-bg-color: #DDD;\n",
              "  }\n",
              "\n",
              "  [theme=dark] .colab-df-quickchart {\n",
              "      --bg-color: #3B4455;\n",
              "      --fill-color: #D2E3FC;\n",
              "      --hover-bg-color: #434B5C;\n",
              "      --hover-fill-color: #FFFFFF;\n",
              "      --disabled-bg-color: #3B4455;\n",
              "      --disabled-fill-color: #666;\n",
              "  }\n",
              "\n",
              "  .colab-df-quickchart {\n",
              "    background-color: var(--bg-color);\n",
              "    border: none;\n",
              "    border-radius: 50%;\n",
              "    cursor: pointer;\n",
              "    display: none;\n",
              "    fill: var(--fill-color);\n",
              "    height: 32px;\n",
              "    padding: 0;\n",
              "    width: 32px;\n",
              "  }\n",
              "\n",
              "  .colab-df-quickchart:hover {\n",
              "    background-color: var(--hover-bg-color);\n",
              "    box-shadow: 0 1px 2px rgba(60, 64, 67, 0.3), 0 1px 3px 1px rgba(60, 64, 67, 0.15);\n",
              "    fill: var(--button-hover-fill-color);\n",
              "  }\n",
              "\n",
              "  .colab-df-quickchart-complete:disabled,\n",
              "  .colab-df-quickchart-complete:disabled:hover {\n",
              "    background-color: var(--disabled-bg-color);\n",
              "    fill: var(--disabled-fill-color);\n",
              "    box-shadow: none;\n",
              "  }\n",
              "\n",
              "  .colab-df-spinner {\n",
              "    border: 2px solid var(--fill-color);\n",
              "    border-color: transparent;\n",
              "    border-bottom-color: var(--fill-color);\n",
              "    animation:\n",
              "      spin 1s steps(1) infinite;\n",
              "  }\n",
              "\n",
              "  @keyframes spin {\n",
              "    0% {\n",
              "      border-color: transparent;\n",
              "      border-bottom-color: var(--fill-color);\n",
              "      border-left-color: var(--fill-color);\n",
              "    }\n",
              "    20% {\n",
              "      border-color: transparent;\n",
              "      border-left-color: var(--fill-color);\n",
              "      border-top-color: var(--fill-color);\n",
              "    }\n",
              "    30% {\n",
              "      border-color: transparent;\n",
              "      border-left-color: var(--fill-color);\n",
              "      border-top-color: var(--fill-color);\n",
              "      border-right-color: var(--fill-color);\n",
              "    }\n",
              "    40% {\n",
              "      border-color: transparent;\n",
              "      border-right-color: var(--fill-color);\n",
              "      border-top-color: var(--fill-color);\n",
              "    }\n",
              "    60% {\n",
              "      border-color: transparent;\n",
              "      border-right-color: var(--fill-color);\n",
              "    }\n",
              "    80% {\n",
              "      border-color: transparent;\n",
              "      border-right-color: var(--fill-color);\n",
              "      border-bottom-color: var(--fill-color);\n",
              "    }\n",
              "    90% {\n",
              "      border-color: transparent;\n",
              "      border-bottom-color: var(--fill-color);\n",
              "    }\n",
              "  }\n",
              "</style>\n",
              "\n",
              "      <script>\n",
              "        async function quickchart(key) {\n",
              "          const quickchartButtonEl =\n",
              "            document.querySelector('#' + key + ' button');\n",
              "          quickchartButtonEl.disabled = true;  // To prevent multiple clicks.\n",
              "          quickchartButtonEl.classList.add('colab-df-spinner');\n",
              "          try {\n",
              "            const charts = await google.colab.kernel.invokeFunction(\n",
              "                'suggestCharts', [key], {});\n",
              "          } catch (error) {\n",
              "            console.error('Error during call to suggestCharts:', error);\n",
              "          }\n",
              "          quickchartButtonEl.classList.remove('colab-df-spinner');\n",
              "          quickchartButtonEl.classList.add('colab-df-quickchart-complete');\n",
              "        }\n",
              "        (() => {\n",
              "          let quickchartButtonEl =\n",
              "            document.querySelector('#df-ff4dc251-d8a9-4c49-b0ae-985e544a2c5b button');\n",
              "          quickchartButtonEl.style.display =\n",
              "            google.colab.kernel.accessAllowed ? 'block' : 'none';\n",
              "        })();\n",
              "      </script>\n",
              "    </div>\n",
              "\n",
              "    </div>\n",
              "  </div>\n"
            ],
            "application/vnd.google.colaboratory.intrinsic+json": {
              "type": "dataframe",
              "variable_name": "val_df",
              "summary": "{\n  \"name\": \"val_df\",\n  \"rows\": 974,\n  \"fields\": [\n    {\n      \"column\": \"_id\",\n      \"properties\": {\n        \"dtype\": \"string\",\n        \"num_unique_values\": 974,\n        \"samples\": [\n          \"66b5bb6b8a38820e82e0bd97\",\n          \"66b5c9118a38820e82e0c327\",\n          \"66b5bb3e8a38820e82e0bd84\"\n        ],\n        \"semantic_type\": \"\",\n        \"description\": \"\"\n      }\n    },\n    {\n      \"column\": \"label\",\n      \"properties\": {\n        \"dtype\": \"category\",\n        \"num_unique_values\": 8,\n        \"samples\": [\n          \"L\\u00e0m \\u0110\\u1eb9p\",\n          \"Tr\\u1ebb em\",\n          \"C\\u00f4ng Ngh\\u1ec7\"\n        ],\n        \"semantic_type\": \"\",\n        \"description\": \"\"\n      }\n    },\n    {\n      \"column\": \"title\",\n      \"properties\": {\n        \"dtype\": \"string\",\n        \"num_unique_values\": 974,\n        \"samples\": [\n          \"T\\u00f4m bao nhi\\u00eau calo? \\u0102n t\\u00f4m c\\u00f3 t\\u0103ng c\\u00e2n kh\\u00f4ng? \\u0102n nhi\\u1ec1u c\\u00f3 t\\u1ed1t kh\\u00f4ng?\",\n          \"Review b\\u1ed9t tr\\u1eafng r\\u0103ng Eucryl - Li\\u1ec7u c\\u00f3 hi\\u1ec7u qu\\u1ea3 nh\\u01b0 l\\u1eddi \\u0111\\u1ed3n?\",\n          \"N\\u1ed1t ru\\u1ed3i \\u1edf s\\u1ed1ng m\\u0169i c\\u00f3 \\u00fd ngh\\u0129a nh\\u01b0 n\\u00e0o? C\\u00f3 n\\u00ean xo\\u00e1 n\\u1ed1t ru\\u1ed3i kh\\u00f4ng?\"\n        ],\n        \"semantic_type\": \"\",\n        \"description\": \"\"\n      }\n    },\n    {\n      \"column\": \"label_numeric\",\n      \"properties\": {\n        \"dtype\": \"number\",\n        \"std\": 2,\n        \"min\": 0,\n        \"max\": 7,\n        \"num_unique_values\": 8,\n        \"samples\": [\n          3,\n          5,\n          0\n        ],\n        \"semantic_type\": \"\",\n        \"description\": \"\"\n      }\n    }\n  ]\n}"
            }
          },
          "metadata": {},
          "execution_count": 7
        }
      ]
    },
    {
      "cell_type": "code",
      "source": [
        "# Define custom dataset class to tokenize titles and return (input_id, label) pairs\n",
        "class TextDataset(Dataset):\n",
        "  def __init__(self, dataframe, tokenizer):\n",
        "    self.titles = dataframe['title'].str.lower().values\n",
        "    self.labels = dataframe['label_numeric'].values\n",
        "    self.tokenizer = tokenizer\n",
        "\n",
        "  def __len__(self):\n",
        "    return len(self.titles)\n",
        "\n",
        "  def __getitem__(self, idx):\n",
        "    title = self.titles[idx]\n",
        "    label = self.labels[idx]\n",
        "    encoding = self.tokenizer.encode(title)\n",
        "    input_id = torch.tensor(encoding, dtype=torch.long)\n",
        "    return input_id, label"
      ],
      "metadata": {
        "id": "ZhY7Q8-pzYj9"
      },
      "execution_count": 8,
      "outputs": []
    },
    {
      "cell_type": "code",
      "source": [
        "# Define collate function to pad sequences to a uniform length for batching\n",
        "def collate_fn(batch):\n",
        "  input_ids = [item[0] for item in batch]\n",
        "  labels = [item[1] for item in batch]\n",
        "  max_length = max(len(input_id) for input_id in input_ids)\n",
        "  input_ids = torch.stack([torch.cat([input_id, torch.zeros(max_length - len(input_id), dtype=torch.long)]) for input_id in input_ids])\n",
        "  labels = torch.tensor(labels, dtype=torch.long)\n",
        "  return input_ids, labels"
      ],
      "metadata": {
        "id": "aKU6EZ2c4Nyd"
      },
      "execution_count": 9,
      "outputs": []
    },
    {
      "cell_type": "code",
      "source": [
        "# Set up tokenizer\n",
        "tokenizer = tiktoken.get_encoding('gpt2')"
      ],
      "metadata": {
        "id": "n1D9O6ToHxfv"
      },
      "execution_count": 10,
      "outputs": []
    },
    {
      "cell_type": "code",
      "source": [
        "# Create datasets\n",
        "train_dataset = TextDataset(\n",
        "    dataframe=train_df,\n",
        "    tokenizer=tokenizer\n",
        ")\n",
        "val_dataset = TextDataset(\n",
        "    dataframe=val_df,\n",
        "    tokenizer=tokenizer\n",
        ")"
      ],
      "metadata": {
        "id": "3tITUKDDT2gD"
      },
      "execution_count": 11,
      "outputs": []
    },
    {
      "cell_type": "code",
      "source": [
        "len(train_dataset)"
      ],
      "metadata": {
        "colab": {
          "base_uri": "https://localhost:8080/"
        },
        "id": "ZqY5kjcvcJtB",
        "outputId": "fb0847da-84d5-49d3-82c3-52be21992821"
      },
      "execution_count": 12,
      "outputs": [
        {
          "output_type": "execute_result",
          "data": {
            "text/plain": [
              "4543"
            ]
          },
          "metadata": {},
          "execution_count": 12
        }
      ]
    },
    {
      "cell_type": "code",
      "source": [
        "len(val_dataset)"
      ],
      "metadata": {
        "colab": {
          "base_uri": "https://localhost:8080/"
        },
        "id": "iGoed0HjcMiV",
        "outputId": "7be1a206-bfe7-440e-9f2e-925e589b404a"
      },
      "execution_count": 13,
      "outputs": [
        {
          "output_type": "execute_result",
          "data": {
            "text/plain": [
              "974"
            ]
          },
          "metadata": {},
          "execution_count": 13
        }
      ]
    },
    {
      "cell_type": "code",
      "source": [
        "train_dataset[0]"
      ],
      "metadata": {
        "colab": {
          "base_uri": "https://localhost:8080/"
        },
        "id": "OegoIsxAcZGi",
        "outputId": "2db679e8-604e-44d2-921f-284d5ed5c200"
      },
      "execution_count": 14,
      "outputs": [
        {
          "output_type": "execute_result",
          "data": {
            "text/plain": [
              "(tensor([ 3064,    10,   336,    83,   299,  2634,   294, 39588,    71,    11,\n",
              "          1451,   299,  2634,   294, 39588,    71,   289, 24247,    72,   289,\n",
              "           130,   108,   157,   119,   249,    66,    11,   299, 25125,   269,\n",
              "           128,   225,   782,    11,   269,   157,   119,   109,    66, 23370,\n",
              "           157,   118,   100,    84]),\n",
              " np.int64(7))"
            ]
          },
          "metadata": {},
          "execution_count": 14
        }
      ]
    },
    {
      "cell_type": "code",
      "source": [
        "val_dataset[0]"
      ],
      "metadata": {
        "colab": {
          "base_uri": "https://localhost:8080/"
        },
        "id": "M6A34V27cgpO",
        "outputId": "6a71a378-a520-4a09-af95-2fa2d04be238"
      },
      "execution_count": 15,
      "outputs": [
        {
          "output_type": "execute_result",
          "data": {
            "text/plain": [
              "(tensor([   83,   157,   119,   243,   782,   289,   157,   119,    96,    79,\n",
              "          2438, 23105,   157,   119,   223,    77,   299,    71, 22940,    77,\n",
              "           294,    84,   157,   118,   255,    83,   285,   157,   119,   249,\n",
              "            72,   299,    71,   157,   118,    98,    83,  8487,    14,  1238,\n",
              "          1731]),\n",
              " np.int64(0))"
            ]
          },
          "metadata": {},
          "execution_count": 15
        }
      ]
    },
    {
      "cell_type": "code",
      "source": [
        "# Create dataloaders\n",
        "train_dataloader = DataLoader(\n",
        "    train_dataset,\n",
        "    batch_size=32,\n",
        "    shuffle=True,\n",
        "    collate_fn=collate_fn\n",
        ")\n",
        "val_dataloader = DataLoader(\n",
        "    val_dataset,\n",
        "    batch_size=32,\n",
        "    shuffle=False,\n",
        "    collate_fn=collate_fn\n",
        ")"
      ],
      "metadata": {
        "id": "_12CjbawWNVz"
      },
      "execution_count": 16,
      "outputs": []
    },
    {
      "cell_type": "markdown",
      "source": [
        "## **3. Build Model**"
      ],
      "metadata": {
        "id": "mUShMLsua4co"
      }
    },
    {
      "cell_type": "code",
      "source": [
        "class PositionalEncoding(nn.Module):\n",
        "  def __init__(self, d_model, max_len=5000):\n",
        "    super(PositionalEncoding, self).__init__()\n",
        "\n",
        "    # Create position indices as a column vector\n",
        "    positions = torch.arange(0, max_len, dtype=torch.float32).unsqueeze(1) # (max_len, 1)\n",
        "\n",
        "    div_term = 1 / (10000.0 ** (torch.arange(0, d_model, 2).float() / d_model)) # (d_model/2,)\n",
        "    # # Alternative method: avoid explicitly raising a base to a power by using exp for better numerical stability\n",
        "    # div_term = torch.exp(torch.arange(0, d_model, 2).float() * (-math.log(10000.0) / d_model))\n",
        "\n",
        "    # Initialize positional encoding tensor filled with 0\n",
        "    pe_matrix = torch.zeros(max_len, d_model)  # (max_len, d_model)\n",
        "\n",
        "    # Apply sine to even-indexed columns and cosine to odd-indexed columns using broadcasting between position and div_term\n",
        "    pe_matrix[:, 0::2] = torch.sin(positions * div_term)\n",
        "    pe_matrix[:, 1::2] = torch.cos(positions * div_term)\n",
        "\n",
        "    # Add a batch dimension to match the input tensor for broadcasting\n",
        "    pe_matrix = pe_matrix.unsqueeze(0)  # (1, max_len, d_model)\n",
        "\n",
        "    # Register positional encoding as a buffer so it's not a learnable parameter\n",
        "    self.register_buffer('pe_matrix', pe_matrix)\n",
        "\n",
        "\n",
        "  def forward(self, x):\n",
        "    # Add positional encoding matching input's sequence length (batch_size, seq_len, d_model) for broadcasting\n",
        "    x = x + self.pe_matrix[:, :x.size(1), :] # (batch_size, seq_len, d_model)\n",
        "    return x"
      ],
      "metadata": {
        "id": "4NomkXcZrVk6"
      },
      "execution_count": 17,
      "outputs": []
    },
    {
      "cell_type": "code",
      "source": [
        "class TransformerEncoderLayer(nn.Module):\n",
        "  def __init__(self, d_model, num_heads, d_ff, dropout=0.1):\n",
        "    super(TransformerEncoderLayer, self).__init__()\n",
        "    self.d_model = d_model\n",
        "    self.num_heads = num_heads\n",
        "    self.depth = d_model // num_heads\n",
        "\n",
        "    # Linear layers for Q, K, V matrices\n",
        "    self.wq = nn.Linear(d_model, d_model) # (batch_size, seq_len, d_model) -> (batch_size, seq_len, d_model)\n",
        "    self.wk = nn.Linear(d_model, d_model) # (batch_size, seq_len, d_model) -> (batch_size, seq_len, d_model)\n",
        "    self.wv = nn.Linear(d_model, d_model) # (batch_size, seq_len, d_model) -> (batch_size, seq_len, d_model)\n",
        "\n",
        "    # Output linear transformation\n",
        "    self.dense = nn.Linear(d_model, d_model)  # (batch_size, seq_len, d_model) -> (batch_size, seq_len, d_model)\n",
        "\n",
        "    # Feed-forward network\n",
        "    self.feed_forward = nn.Sequential(\n",
        "        nn.Linear(d_model, d_ff), # (batch_size, seq_len, d_model) -> (batch_size, seq_len, d_ff)\n",
        "        nn.ReLU(),\n",
        "        nn.Linear(d_ff, d_model)  # (batch_size, seq_len, d_ff) -> (batch_size, seq_len, d_model)\n",
        "    )\n",
        "\n",
        "    # Layer normalization and dropout\n",
        "    self.layernorm1 = nn.LayerNorm(d_model) # (batch_size, seq_len, d_model) -> (batch_size, seq_len, d_model)\n",
        "    self.layernorm2 = nn.LayerNorm(d_model) # (batch_size, seq_len, d_model) -> (batch_size, seq_len, d_model)\n",
        "    self.dropout = nn.Dropout(dropout)\n",
        "\n",
        "\n",
        "  def split_heads(self, x, batch_size):\n",
        "    # x: (batch_size, seq_len, d_model)\n",
        "\n",
        "    # Reshape x to (batch_size, seq_len, num_heads, depth)\n",
        "    x = x.view(batch_size, -1, self.num_heads, self.depth)\n",
        "\n",
        "    # Transpose x to (batch_size, num_heads, seq_len, depth)\n",
        "    return x.transpose(1, 2)\n",
        "\n",
        "\n",
        "  def scaled_dot_product_attention(self, q, k, v, mask=None):\n",
        "    # q: (batch_size, num_heads, seq_len_q, depth)\n",
        "    # k: (batch_size, num_heads, seq_len_k, depth)\n",
        "    # v: (batch_size, num_heads, seq_len_v, depth) (where seq_len_v = seq_len_k)\n",
        "    # d_model = num_heads x depth\n",
        "\n",
        "    k_T = k.transpose(-1, -2) # (batch_size, num_heads, depth, seq_len_k)\n",
        "    scores = torch.matmul(q, k_T) # (batch_size, num_heads, seq_len_q, seq_len_k)\n",
        "\n",
        "    dk = k.size(-1)\n",
        "    scale = torch.sqrt(torch.tensor(dk, dtype=torch.float32))\n",
        "\n",
        "    scaled_scores = scores / scale  # (batch_size, num_heads, seq_len_q, seq_len_k)\n",
        "\n",
        "    if mask is not None:\n",
        "      scaled_scores = scaled_scores.masked_fill(mask == 0, -1e9)\n",
        "\n",
        "    attention_weights = torch.nn.functional.softmax(scaled_scores, dim=-1)  # (batch_size, num_heads, seq_len_q, seq_len_k)\n",
        "\n",
        "    output = torch.matmul(attention_weights, v) # (batch_size, num_heads, seq_len_q, depth)\n",
        "\n",
        "    return output, attention_weights\n",
        "\n",
        "\n",
        "  def forward(self, x, mask=None):\n",
        "    # x: (batch_size, seq_len, d_model)\n",
        "\n",
        "    batch_size = x.size(0)\n",
        "\n",
        "    # Apply linear layers and split into heads\n",
        "    q = self.split_heads(self.wq(x), batch_size)  # (batch_size, num_heads, seq_len, depth)\n",
        "    k = self.split_heads(self.wk(x), batch_size)  # (batch_size, num_heads, seq_len, depth)\n",
        "    v = self.split_heads(self.wv(x), batch_size)  # (batch_size, num_heads, seq_len, depth)\n",
        "\n",
        "    # Apply the custom scaled dot-product attention\n",
        "    scaled_attention, _ = self.scaled_dot_product_attention(q, k, v, mask)  # (batch_size, num_heads, seq_len, depth)\n",
        "\n",
        "    # Transpose and reshape back\n",
        "    scaled_attention = scaled_attention.transpose(1, 2).contiguous()  # (batch_size, seq_len, num_heads, depth)\n",
        "    concat_attention = scaled_attention.view(batch_size, -1, self.d_model)  # (batch_size, seq_len, d_model)\n",
        "\n",
        "    # Apply the final linear layer to combine the heads\n",
        "    attn_output = self.dense(concat_attention)  # (batch_size, seq_len, d_model)\n",
        "\n",
        "    # Add & Norm\n",
        "    x = self.layernorm1(x + self.dropout(attn_output))  # (batch_size, seq_len, d_model)\n",
        "\n",
        "    # Feed-forward\n",
        "    ff_output = self.feed_forward(x)  # (batch_size, seq_len, d_model)\n",
        "\n",
        "    # Add & Norm\n",
        "    x = self.layernorm2(x + self.dropout(ff_output))  # (batch_size, seq_len, d_model)\n",
        "\n",
        "    return x"
      ],
      "metadata": {
        "id": "NX871mo-0rLk"
      },
      "execution_count": 18,
      "outputs": []
    },
    {
      "cell_type": "code",
      "source": [
        "class TransformerModel(nn.Module):\n",
        "  def __init__(self, vocab_size, embed_size, d_model, num_heads, d_ff, output_size, num_layers, dropout=0.1):\n",
        "    super(TransformerModel, self).__init__()\n",
        "    self.embedding = nn.Embedding(vocab_size, embed_size)\n",
        "    self.positional_encoding = PositionalEncoding(d_model)\n",
        "\n",
        "    self.encoder_layers = nn.ModuleList([\n",
        "        TransformerEncoderLayer(d_model, num_heads, d_ff, dropout)\n",
        "        for _ in range(num_layers)\n",
        "    ])\n",
        "\n",
        "    self.fc = nn.Linear(d_model, output_size)\n",
        "    self.dropout = nn.Dropout(dropout)\n",
        "\n",
        "\n",
        "  def forward(self, x, mask=None):\n",
        "    x = self.embedding(x) # (batch_size, seq_len, embed_size)\n",
        "    x = self.positional_encoding(x) # (batch_size, seq_len, d_model)\n",
        "\n",
        "    for layer in self.encoder_layers:\n",
        "      x = layer(x, mask)  # (batch_size, seq_len, d_model)\n",
        "\n",
        "    x = x.mean(dim=1)  # (batch_size, d_model)\n",
        "    x = self.fc(self.dropout(x))  # (batch_size, output_size)\n",
        "    return x"
      ],
      "metadata": {
        "id": "TqPMMrzI1CVj"
      },
      "execution_count": 19,
      "outputs": []
    },
    {
      "cell_type": "code",
      "source": [
        "# Initialize the Transformer model\n",
        "vocab_size = tokenizer.n_vocab\n",
        "embed_size = 256\n",
        "d_model = 256\n",
        "num_heads = 8\n",
        "d_ff = 512\n",
        "output_size = len(train_df['label_numeric'].unique())\n",
        "num_layers = 4\n",
        "dropout = 0.1\n",
        "\n",
        "model = TransformerModel(vocab_size, embed_size, d_model, num_heads, d_ff, output_size, num_layers, dropout)"
      ],
      "metadata": {
        "id": "Dyo84ak_1ckG"
      },
      "execution_count": 20,
      "outputs": []
    },
    {
      "cell_type": "code",
      "source": [
        "model = model.to(device)"
      ],
      "metadata": {
        "id": "lBAA4wnnyOSe"
      },
      "execution_count": 21,
      "outputs": []
    },
    {
      "cell_type": "markdown",
      "source": [
        "## **4. Train & Evaluate Model**"
      ],
      "metadata": {
        "id": "ydqTMufvjkeU"
      }
    },
    {
      "cell_type": "code",
      "source": [
        "model_dir = 'models'\n",
        "os.makedirs(model_dir, exist_ok=True)"
      ],
      "metadata": {
        "id": "QXrd-0ExwA0E"
      },
      "execution_count": 22,
      "outputs": []
    },
    {
      "cell_type": "code",
      "source": [
        "criterion = nn.CrossEntropyLoss()"
      ],
      "metadata": {
        "id": "efRGmEsmjxKy"
      },
      "execution_count": 23,
      "outputs": []
    },
    {
      "cell_type": "code",
      "source": [
        "optimizer = optim.Adam(model.parameters(), lr=0.001)"
      ],
      "metadata": {
        "id": "KASuFjXbzKNG"
      },
      "execution_count": 24,
      "outputs": []
    },
    {
      "cell_type": "code",
      "source": [
        "num_epochs = 20\n",
        "best_accuracy = 0.0\n",
        "\n",
        "\n",
        "for epoch in range(1, num_epochs + 1):\n",
        "  # Train model\n",
        "  model.train()\n",
        "\n",
        "  for input_ids, labels in tqdm(train_dataloader, total=len(train_dataloader)):\n",
        "    input_ids = input_ids.to(device)\n",
        "    labels = labels.to(device)\n",
        "\n",
        "    outputs = model(input_ids)\n",
        "    loss = criterion(outputs, labels)\n",
        "\n",
        "    optimizer.zero_grad()\n",
        "    loss.backward()\n",
        "    optimizer.step()\n",
        "\n",
        "  print(f\"Epoch {epoch}/{num_epochs}, Loss: {loss.item()}\")\n",
        "\n",
        "\n",
        "  # Evaluate model\n",
        "  model.eval()\n",
        "  correct = 0\n",
        "  total = 0\n",
        "  with torch.no_grad():\n",
        "    for input_ids, labels in tqdm(val_dataloader, total=len(val_dataloader)):\n",
        "      input_ids = input_ids.to(device)\n",
        "      labels = labels.to(device)\n",
        "\n",
        "      outputs = model(input_ids)\n",
        "      predicted = torch.argmax(outputs, dim=1)\n",
        "\n",
        "      total += labels.size(0)\n",
        "      correct += (predicted == labels).sum().item()\n",
        "\n",
        "    accuracy = 100 * correct / total\n",
        "\n",
        "    # Save the model if it achieves a new best validation accuracy\n",
        "    if accuracy > best_accuracy:\n",
        "      best_accuracy = accuracy\n",
        "      torch.save(model.state_dict(), os.path.join('models', 'best_model.pth'))\n",
        "      print(f\"Saved best model at epoch {epoch} - Validation Accuracy: {accuracy:.2f}%\")"
      ],
      "metadata": {
        "colab": {
          "base_uri": "https://localhost:8080/"
        },
        "id": "kIBCcwYS1luZ",
        "outputId": "a960e172-841c-43eb-d29e-c37a5cd0b1e0"
      },
      "execution_count": 25,
      "outputs": [
        {
          "output_type": "stream",
          "name": "stderr",
          "text": [
            "100%|██████████| 142/142 [02:06<00:00,  1.12it/s]\n"
          ]
        },
        {
          "output_type": "stream",
          "name": "stdout",
          "text": [
            "Epoch 1/20, Loss: 1.5751787424087524\n"
          ]
        },
        {
          "output_type": "stream",
          "name": "stderr",
          "text": [
            "100%|██████████| 31/31 [00:07<00:00,  4.26it/s]\n"
          ]
        },
        {
          "output_type": "stream",
          "name": "stdout",
          "text": [
            "Saved best model at epoch 1 - Validation Accuracy: 64.58%\n"
          ]
        },
        {
          "output_type": "stream",
          "name": "stderr",
          "text": [
            "100%|██████████| 142/142 [02:06<00:00,  1.13it/s]\n"
          ]
        },
        {
          "output_type": "stream",
          "name": "stdout",
          "text": [
            "Epoch 2/20, Loss: 1.4378870725631714\n"
          ]
        },
        {
          "output_type": "stream",
          "name": "stderr",
          "text": [
            "100%|██████████| 31/31 [00:06<00:00,  4.82it/s]\n"
          ]
        },
        {
          "output_type": "stream",
          "name": "stdout",
          "text": [
            "Saved best model at epoch 2 - Validation Accuracy: 65.81%\n"
          ]
        },
        {
          "output_type": "stream",
          "name": "stderr",
          "text": [
            "100%|██████████| 142/142 [02:08<00:00,  1.11it/s]\n"
          ]
        },
        {
          "output_type": "stream",
          "name": "stdout",
          "text": [
            "Epoch 3/20, Loss: 1.192897081375122\n"
          ]
        },
        {
          "output_type": "stream",
          "name": "stderr",
          "text": [
            "100%|██████████| 31/31 [00:07<00:00,  4.19it/s]\n"
          ]
        },
        {
          "output_type": "stream",
          "name": "stdout",
          "text": [
            "Saved best model at epoch 3 - Validation Accuracy: 71.97%\n"
          ]
        },
        {
          "output_type": "stream",
          "name": "stderr",
          "text": [
            "100%|██████████| 142/142 [02:19<00:00,  1.02it/s]\n"
          ]
        },
        {
          "output_type": "stream",
          "name": "stdout",
          "text": [
            "Epoch 4/20, Loss: 0.8467778563499451\n"
          ]
        },
        {
          "output_type": "stream",
          "name": "stderr",
          "text": [
            "100%|██████████| 31/31 [00:07<00:00,  4.09it/s]\n"
          ]
        },
        {
          "output_type": "stream",
          "name": "stdout",
          "text": [
            "Saved best model at epoch 4 - Validation Accuracy: 73.31%\n"
          ]
        },
        {
          "output_type": "stream",
          "name": "stderr",
          "text": [
            "100%|██████████| 142/142 [02:21<00:00,  1.00it/s]\n"
          ]
        },
        {
          "output_type": "stream",
          "name": "stdout",
          "text": [
            "Epoch 5/20, Loss: 0.9631362557411194\n"
          ]
        },
        {
          "output_type": "stream",
          "name": "stderr",
          "text": [
            "100%|██████████| 31/31 [00:06<00:00,  4.53it/s]\n",
            "100%|██████████| 142/142 [02:26<00:00,  1.03s/it]\n"
          ]
        },
        {
          "output_type": "stream",
          "name": "stdout",
          "text": [
            "Epoch 6/20, Loss: 0.6691944599151611\n"
          ]
        },
        {
          "output_type": "stream",
          "name": "stderr",
          "text": [
            "100%|██████████| 31/31 [00:07<00:00,  4.29it/s]\n"
          ]
        },
        {
          "output_type": "stream",
          "name": "stdout",
          "text": [
            "Saved best model at epoch 6 - Validation Accuracy: 76.08%\n"
          ]
        },
        {
          "output_type": "stream",
          "name": "stderr",
          "text": [
            "100%|██████████| 142/142 [02:34<00:00,  1.09s/it]\n"
          ]
        },
        {
          "output_type": "stream",
          "name": "stdout",
          "text": [
            "Epoch 7/20, Loss: 0.989790678024292\n"
          ]
        },
        {
          "output_type": "stream",
          "name": "stderr",
          "text": [
            "100%|██████████| 31/31 [00:07<00:00,  4.22it/s]\n",
            "100%|██████████| 142/142 [03:03<00:00,  1.29s/it]\n"
          ]
        },
        {
          "output_type": "stream",
          "name": "stdout",
          "text": [
            "Epoch 8/20, Loss: 0.9719287753105164\n"
          ]
        },
        {
          "output_type": "stream",
          "name": "stderr",
          "text": [
            "100%|██████████| 31/31 [00:08<00:00,  3.69it/s]\n",
            "100%|██████████| 142/142 [03:11<00:00,  1.35s/it]\n"
          ]
        },
        {
          "output_type": "stream",
          "name": "stdout",
          "text": [
            "Epoch 9/20, Loss: 0.8582125306129456\n"
          ]
        },
        {
          "output_type": "stream",
          "name": "stderr",
          "text": [
            "100%|██████████| 31/31 [00:08<00:00,  3.56it/s]\n",
            "100%|██████████| 142/142 [03:34<00:00,  1.51s/it]\n"
          ]
        },
        {
          "output_type": "stream",
          "name": "stdout",
          "text": [
            "Epoch 10/20, Loss: 0.591472327709198\n"
          ]
        },
        {
          "output_type": "stream",
          "name": "stderr",
          "text": [
            "100%|██████████| 31/31 [00:07<00:00,  3.93it/s]\n",
            "100%|██████████| 142/142 [03:51<00:00,  1.63s/it]\n"
          ]
        },
        {
          "output_type": "stream",
          "name": "stdout",
          "text": [
            "Epoch 11/20, Loss: 0.8468060493469238\n"
          ]
        },
        {
          "output_type": "stream",
          "name": "stderr",
          "text": [
            "100%|██████████| 31/31 [00:08<00:00,  3.73it/s]\n",
            "100%|██████████| 142/142 [03:49<00:00,  1.62s/it]\n"
          ]
        },
        {
          "output_type": "stream",
          "name": "stdout",
          "text": [
            "Epoch 12/20, Loss: 0.7094195485115051\n"
          ]
        },
        {
          "output_type": "stream",
          "name": "stderr",
          "text": [
            "100%|██████████| 31/31 [00:08<00:00,  3.77it/s]\n",
            "100%|██████████| 142/142 [03:50<00:00,  1.63s/it]\n"
          ]
        },
        {
          "output_type": "stream",
          "name": "stdout",
          "text": [
            "Epoch 13/20, Loss: 0.7934747934341431\n"
          ]
        },
        {
          "output_type": "stream",
          "name": "stderr",
          "text": [
            "100%|██████████| 31/31 [00:08<00:00,  3.52it/s]\n",
            "100%|██████████| 142/142 [04:03<00:00,  1.72s/it]\n"
          ]
        },
        {
          "output_type": "stream",
          "name": "stdout",
          "text": [
            "Epoch 14/20, Loss: 1.0133702754974365\n"
          ]
        },
        {
          "output_type": "stream",
          "name": "stderr",
          "text": [
            "100%|██████████| 31/31 [00:09<00:00,  3.44it/s]\n",
            "100%|██████████| 142/142 [04:13<00:00,  1.78s/it]\n"
          ]
        },
        {
          "output_type": "stream",
          "name": "stdout",
          "text": [
            "Epoch 15/20, Loss: 0.5131596922874451\n"
          ]
        },
        {
          "output_type": "stream",
          "name": "stderr",
          "text": [
            "100%|██████████| 31/31 [00:07<00:00,  3.93it/s]\n",
            "100%|██████████| 142/142 [04:16<00:00,  1.80s/it]\n"
          ]
        },
        {
          "output_type": "stream",
          "name": "stdout",
          "text": [
            "Epoch 16/20, Loss: 0.7966384291648865\n"
          ]
        },
        {
          "output_type": "stream",
          "name": "stderr",
          "text": [
            "100%|██████████| 31/31 [00:08<00:00,  3.51it/s]\n",
            "100%|██████████| 142/142 [04:25<00:00,  1.87s/it]\n"
          ]
        },
        {
          "output_type": "stream",
          "name": "stdout",
          "text": [
            "Epoch 17/20, Loss: 0.6404994130134583\n"
          ]
        },
        {
          "output_type": "stream",
          "name": "stderr",
          "text": [
            "100%|██████████| 31/31 [00:08<00:00,  3.77it/s]\n",
            "100%|██████████| 142/142 [04:07<00:00,  1.74s/it]\n"
          ]
        },
        {
          "output_type": "stream",
          "name": "stdout",
          "text": [
            "Epoch 18/20, Loss: 0.7462441325187683\n"
          ]
        },
        {
          "output_type": "stream",
          "name": "stderr",
          "text": [
            "100%|██████████| 31/31 [00:08<00:00,  3.53it/s]\n",
            "100%|██████████| 142/142 [04:04<00:00,  1.72s/it]\n"
          ]
        },
        {
          "output_type": "stream",
          "name": "stdout",
          "text": [
            "Epoch 19/20, Loss: 0.6306554675102234\n"
          ]
        },
        {
          "output_type": "stream",
          "name": "stderr",
          "text": [
            "100%|██████████| 31/31 [00:08<00:00,  3.57it/s]\n",
            "100%|██████████| 142/142 [04:03<00:00,  1.72s/it]\n"
          ]
        },
        {
          "output_type": "stream",
          "name": "stdout",
          "text": [
            "Epoch 20/20, Loss: 0.45637303590774536\n"
          ]
        },
        {
          "output_type": "stream",
          "name": "stderr",
          "text": [
            "100%|██████████| 31/31 [00:07<00:00,  3.96it/s]\n"
          ]
        }
      ]
    }
  ]
}